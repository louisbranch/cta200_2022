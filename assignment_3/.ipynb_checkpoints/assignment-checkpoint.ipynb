{
 "cells": [
  {
   "cell_type": "code",
   "execution_count": 4,
   "metadata": {},
   "outputs": [
    {
     "data": {
      "image/png": "[encoded data removed]",
      "text/plain": [
       "<Figure size 432x288 with 1 Axes>"
      ]
     },
     "metadata": {
      "needs_background": "light"
     },
     "output_type": "display_data"
    }
   ],
   "source": [
    "from assignment_3 import mandelbrot_set\n",
    "import matplotlib.pyplot as plt\n",
    "import numpy as np\n",
    "\n",
    "def plot(set : np.array, colors : np.array, cutoff=2):\n",
    "    bounded = np.abs(set) < cutoff\n",
    "    plt.imshow(colors, vmax=10)\n",
    "    plt.axis('off')\n",
    "    plt.show()\n",
    "\n",
    "data, colors = mandelbrot_set()\n",
    "plot(data, colors)"
   ]
  },
  {
   "cell_type": "code",
   "execution_count": null,
   "metadata": {},
   "outputs": [],
   "source": [
    "z = np.zeros((2, 2))"
   ]
  },
  {
   "cell_type": "code",
   "execution_count": null,
   "metadata": {},
   "outputs": [],
   "source": [
    "num_points = 2"
   ]
  },
  {
   "cell_type": "code",
   "execution_count": null,
   "metadata": {},
   "outputs": [],
   "source": [
    "x = np.linspace(-1, 1, num=num_points, dtype=np.float64)\n",
    "y = np.linspace(-1, 1, num=num_points, dtype=np.complex64) * 1j\n",
    "c = x.reshape((1,num_points)) + y.reshape((num_points,1))\n",
    "z = np.zeros((num_points, num_points), dtype=np.complex64)\n",
    "b = z = np.zeros((num_points, num_points), dtype=np.int64)\n",
    "z = z**2 + c\n",
    "z = z**2 + c\n",
    "z = z**2 + c\n",
    "z = z**2 + c\n",
    "mask = np.abs(z) >= 2\n",
    "b[mask] = 1\n",
    "b"
   ]
  },
  {
   "cell_type": "code",
   "execution_count": null,
   "metadata": {},
   "outputs": [],
   "source": []
  },
  {
   "cell_type": "code",
   "execution_count": null,
   "metadata": {},
   "outputs": [],
   "source": []
  }
 ],
 "metadata": {
  "interpreter": {
   "hash": "916dbcbb3f70747c44a77c7bcd40155683ae19c65e1c03b4aa3499c5328201f1"
  },
  "kernelspec": {
   "display_name": "Python 3 (ipykernel)",
   "language": "python",
   "name": "python3"
  },
  "language_info": {
   "codemirror_mode": {
    "name": "ipython",
    "version": 3
   },
   "file_extension": ".py",
   "mimetype": "text/x-python",
   "name": "python",
   "nbconvert_exporter": "python",
   "pygments_lexer": "ipython3",
   "version": "3.10.4"
  }
 },
 "nbformat": 4,
 "nbformat_minor": 2
}
