{
 "cells": [
  {
   "cell_type": "code",
   "execution_count": null,
   "metadata": {},
   "outputs": [],
   "source": [
    "from assignment_3 import mandelbrot_set, lorenz_integral, Time, DeltaT\n",
    "import matplotlib.pyplot as plt\n",
    "import numpy as np"
   ]
  },
  {
   "cell_type": "markdown",
   "metadata": {},
   "source": [
    "## Question 1\n",
    "\n",
    "Display a Mandelbrot set by iterating over f(z) = z^2 + c"
   ]
  },
  {
   "cell_type": "code",
   "execution_count": null,
   "metadata": {},
   "outputs": [],
   "source": [
    "max_iter = 50\n",
    "\n",
    "data = mandelbrot_set(num_points=5000, max_iter=max_iter)\n",
    "plt.figure(figsize = (20,20))\n",
    "im = plt.imshow(data, extent=[-2,2,-2,2], vmin=0, vmax=max_iter, aspect='auto')\n",
    "plt.xlabel('Real')\n",
    "plt.ylabel('Imaginary')\n",
    "cbar = plt.colorbar()\n",
    "cbar.set_label('Iterations')\n",
    "plt.savefig(f'mandelbrot_{max_iter}.pdf')\n",
    "plt.show()"
   ]
  },
  {
   "cell_type": "markdown",
   "metadata": {},
   "source": [
    "## Question 2\n",
    "\n",
    "Solve a system of ordinary differential equations simulating chaotic effect\n",
    "in the atmosphere."
   ]
  },
  {
   "cell_type": "code",
   "execution_count": null,
   "metadata": {},
   "outputs": [],
   "source": [
    "# display 3 plots as Y as a function of time, each plot spans 1000 iterations\n",
    "density = int(Time / DeltaT)\n",
    "ts = np.linspace(0, Time, num=density)\n",
    "t, sol = lorenz_integral(ts)\n",
    "y = sol[1]\n",
    "\n",
    "plt.rcParams[\"figure.figsize\"] = (20, 10)\n",
    "\n",
    "for i in range(3):\n",
    "    plt.plot(t[1000*i:1000*(i+1)], y[1000*i:1000*(i+1)])\n",
    "    plt.xlabel('Iterations')\n",
    "    plt.ylabel('Y')\n",
    "    plt.axhline(color='black', lw=0.5)\n",
    "    plt.savefig(f'lorenz_{i+1}.pdf')\n",
    "    plt.show()"
   ]
  },
  {
   "cell_type": "code",
   "execution_count": null,
   "metadata": {},
   "outputs": [],
   "source": [
    "# using a subset of the initial space, display Z as a function of Y\n",
    "ts = np.linspace(14, 19, num=density)\n",
    "t, sol = lorenz_integral(ts)\n",
    "\n",
    "plt.plot(sol[1], sol[2])\n",
    "plt.xlabel('Y')\n",
    "plt.ylabel('Z')\n",
    "plt.axhline(color='black', lw=0.5)\n",
    "plt.axvline(color='black', lw=0.5)\n",
    "plt.savefig('lorenz_4.pdf')\n",
    "plt.show()\n",
    "\n",
    "# display X as a function of Y\n",
    "plt.plot(sol[1], sol[0])\n",
    "plt.gca().invert_yaxis()\n",
    "plt.xlabel('Y')\n",
    "plt.ylabel('X')\n",
    "plt.axhline(color='black', lw=0.5)\n",
    "plt.axvline(color='black', lw=0.5)\n",
    "plt.savefig('lorenz_5.pdf')\n",
    "plt.show()\n",
    "\n",
    "# display Z as a function of X for the \"butterfly effect\" image\n",
    "ts = np.linspace(14, 30, num=density)\n",
    "t, sol = lorenz_integral(ts)\n",
    "plt.plot(sol[0], sol[2])\n",
    "plt.xlabel('X')\n",
    "plt.ylabel('Z')\n",
    "plt.axhline(color='black', lw=0.5)\n",
    "plt.axvline(color='black', lw=0.5)\n",
    "plt.savefig('lorenz_6.pdf')\n",
    "plt.show()"
   ]
  },
  {
   "cell_type": "code",
   "execution_count": null,
   "metadata": {},
   "outputs": [],
   "source": [
    "# using a different set of initial conditions (W'), display a semilog plot with\n",
    "# the absolute distance between W and W' over time\n",
    "ts = np.linspace(0, Time, num=density)\n",
    "w0 = np.array((0., 1., 0.))\n",
    "wp = w0 + np.array((0., 1e-8, 0.))\n",
    "\n",
    "t, sol = lorenz_integral(ts)\n",
    "tp, solp = lorenz_integral(ts, wp)\n",
    "\n",
    "# normalize data before taking the absolute difference\n",
    "wn = np.linalg.norm(sol.T, axis=1)\n",
    "wpn = np.linalg.norm(solp.T, axis=1)\n",
    "distance = np.abs(wn - wpn)\n",
    "\n",
    "plt.plot(ts, distance)\n",
    "plt.xlabel('Time (s)')\n",
    "plt.ylabel('Distance')\n",
    "plt.yscale('log')\n",
    "plt.savefig('lorenz_7.pdf')\n",
    "plt.show()"
   ]
  },
  {
   "cell_type": "code",
   "execution_count": null,
   "metadata": {},
   "outputs": [],
   "source": []
  }
 ],
 "metadata": {
  "interpreter": {
   "hash": "916dbcbb3f70747c44a77c7bcd40155683ae19c65e1c03b4aa3499c5328201f1"
  },
  "kernelspec": {
   "display_name": "Python 3 (ipykernel)",
   "language": "python",
   "name": "python3"
  },
  "language_info": {
   "codemirror_mode": {
    "name": "ipython",
    "version": 3
   },
   "file_extension": ".py",
   "mimetype": "text/x-python",
   "name": "python",
   "nbconvert_exporter": "python",
   "pygments_lexer": "ipython3",
   "version": "3.10.4"
  }
 },
 "nbformat": 4,
 "nbformat_minor": 2
}
